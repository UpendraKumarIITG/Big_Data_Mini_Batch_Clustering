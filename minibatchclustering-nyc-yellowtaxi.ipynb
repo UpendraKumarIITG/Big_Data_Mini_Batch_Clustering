{
 "cells": [
  {
   "cell_type": "code",
   "execution_count": 1,
   "metadata": {
    "colab": {
     "base_uri": "https://localhost:8080/"
    },
    "executionInfo": {
     "elapsed": 2078,
     "status": "ok",
     "timestamp": 1731223966325,
     "user": {
      "displayName": "Upendra Kumar",
      "userId": "15397436869538451510"
     },
     "user_tz": -60
    },
    "id": "SfFXjkZS_Y6i",
    "outputId": "70ea558f-0789-4005-beb5-0c2b9b7c428f"
   },
   "outputs": [],
   "source": [
    "# from google.colab import drive\n",
    "# drive.mount('/content/drive')"
   ]
  },
  {
   "cell_type": "markdown",
   "metadata": {},
   "source": []
  },
  {
   "cell_type": "code",
   "execution_count": 2,
   "metadata": {
    "_cell_guid": "b1076dfc-b9ad-4769-8c92-a6c4dae69d19",
    "_uuid": "8f2839f25d086af736a60e9eeb907d3b93b6e0e5",
    "execution": {
     "iopub.execute_input": "2024-01-04T12:34:41.316959Z",
     "iopub.status.busy": "2024-01-04T12:34:41.316581Z",
     "iopub.status.idle": "2024-01-04T12:34:41.900164Z",
     "shell.execute_reply": "2024-01-04T12:34:41.898495Z",
     "shell.execute_reply.started": "2024-01-04T12:34:41.31693Z"
    },
    "executionInfo": {
     "elapsed": 7,
     "status": "ok",
     "timestamp": 1731223970521,
     "user": {
      "displayName": "Upendra Kumar",
      "userId": "15397436869538451510"
     },
     "user_tz": -60
    },
    "id": "pQXijRw5_VJC"
   },
   "outputs": [],
   "source": [
    "import numpy as np # linear algebra\n",
    "import pandas as pd # data processing, CSV file I/O (e.g. pd.read_csv)"
   ]
  },
  {
   "cell_type": "code",
   "execution_count": 23,
   "metadata": {
    "execution": {
     "iopub.execute_input": "2024-01-04T12:34:41.903711Z",
     "iopub.status.busy": "2024-01-04T12:34:41.902938Z",
     "iopub.status.idle": "2024-01-04T12:34:42.994568Z",
     "shell.execute_reply": "2024-01-04T12:34:42.993523Z",
     "shell.execute_reply.started": "2024-01-04T12:34:41.903652Z"
    },
    "executionInfo": {
     "elapsed": 1965,
     "status": "ok",
     "timestamp": 1731223974494,
     "user": {
      "displayName": "Upendra Kumar",
      "userId": "15397436869538451510"
     },
     "user_tz": -60
    },
    "id": "KDMlZOtE_VJF"
   },
   "outputs": [],
   "source": [
    "import pandas as pd\n",
    "from sklearn.preprocessing import LabelEncoder\n",
    "from sklearn.preprocessing import StandardScaler\n",
    "from sklearn.cluster import MiniBatchKMeans\n",
    "import matplotlib.pyplot as plt"
   ]
  },
  {
   "cell_type": "code",
   "execution_count": 4,
   "metadata": {
    "colab": {
     "base_uri": "https://localhost:8080/"
    },
    "execution": {
     "iopub.execute_input": "2024-01-04T12:34:44.937294Z",
     "iopub.status.busy": "2024-01-04T12:34:44.936758Z",
     "iopub.status.idle": "2024-01-04T12:35:43.601948Z",
     "shell.execute_reply": "2024-01-04T12:35:43.600742Z",
     "shell.execute_reply.started": "2024-01-04T12:34:44.937247Z"
    },
    "executionInfo": {
     "elapsed": 59444,
     "status": "ok",
     "timestamp": 1731224037039,
     "user": {
      "displayName": "Upendra Kumar",
      "userId": "15397436869538451510"
     },
     "user_tz": -60
    },
    "id": "cTJ6LaRu_VJH",
    "outputId": "c01f435f-a1f0-4864-ed21-df43cf16a0fe"
   },
   "outputs": [
    {
     "data": {
      "text/plain": [
       "(12748986, 19)"
      ]
     },
     "execution_count": 4,
     "metadata": {},
     "output_type": "execute_result"
    }
   ],
   "source": [
    "data = pd.read_csv(\"yellow_tripdata_2015-01.csv\")\n",
    "data.shape"
   ]
  },
  {
   "cell_type": "code",
   "execution_count": 5,
   "metadata": {
    "colab": {
     "base_uri": "https://localhost:8080/",
     "height": 226
    },
    "execution": {
     "iopub.execute_input": "2024-01-04T12:35:43.604704Z",
     "iopub.status.busy": "2024-01-04T12:35:43.60422Z",
     "iopub.status.idle": "2024-01-04T12:35:43.644802Z",
     "shell.execute_reply": "2024-01-04T12:35:43.643401Z",
     "shell.execute_reply.started": "2024-01-04T12:35:43.604669Z"
    },
    "executionInfo": {
     "elapsed": 274,
     "status": "ok",
     "timestamp": 1731224098878,
     "user": {
      "displayName": "Upendra Kumar",
      "userId": "15397436869538451510"
     },
     "user_tz": -60
    },
    "id": "qjnHABAF_VJI",
    "outputId": "79c1983d-6e0e-4055-ea6d-206bbaa85528"
   },
   "outputs": [
    {
     "data": {
      "text/html": [
       "<div>\n",
       "<style scoped>\n",
       "    .dataframe tbody tr th:only-of-type {\n",
       "        vertical-align: middle;\n",
       "    }\n",
       "\n",
       "    .dataframe tbody tr th {\n",
       "        vertical-align: top;\n",
       "    }\n",
       "\n",
       "    .dataframe thead th {\n",
       "        text-align: right;\n",
       "    }\n",
       "</style>\n",
       "<table border=\"1\" class=\"dataframe\">\n",
       "  <thead>\n",
       "    <tr style=\"text-align: right;\">\n",
       "      <th></th>\n",
       "      <th>VendorID</th>\n",
       "      <th>tpep_pickup_datetime</th>\n",
       "      <th>tpep_dropoff_datetime</th>\n",
       "      <th>passenger_count</th>\n",
       "      <th>trip_distance</th>\n",
       "      <th>pickup_longitude</th>\n",
       "      <th>pickup_latitude</th>\n",
       "      <th>RateCodeID</th>\n",
       "      <th>store_and_fwd_flag</th>\n",
       "      <th>dropoff_longitude</th>\n",
       "      <th>dropoff_latitude</th>\n",
       "      <th>payment_type</th>\n",
       "      <th>fare_amount</th>\n",
       "      <th>extra</th>\n",
       "      <th>mta_tax</th>\n",
       "      <th>tip_amount</th>\n",
       "      <th>tolls_amount</th>\n",
       "      <th>improvement_surcharge</th>\n",
       "      <th>total_amount</th>\n",
       "    </tr>\n",
       "  </thead>\n",
       "  <tbody>\n",
       "    <tr>\n",
       "      <th>0</th>\n",
       "      <td>2</td>\n",
       "      <td>2015-01-15 19:05:39</td>\n",
       "      <td>2015-01-15 19:23:42</td>\n",
       "      <td>1</td>\n",
       "      <td>1.59</td>\n",
       "      <td>-73.993896</td>\n",
       "      <td>40.750111</td>\n",
       "      <td>1</td>\n",
       "      <td>N</td>\n",
       "      <td>-73.974785</td>\n",
       "      <td>40.750618</td>\n",
       "      <td>1</td>\n",
       "      <td>12.0</td>\n",
       "      <td>1.0</td>\n",
       "      <td>0.5</td>\n",
       "      <td>3.25</td>\n",
       "      <td>0.0</td>\n",
       "      <td>0.3</td>\n",
       "      <td>17.05</td>\n",
       "    </tr>\n",
       "    <tr>\n",
       "      <th>1</th>\n",
       "      <td>1</td>\n",
       "      <td>2015-01-10 20:33:38</td>\n",
       "      <td>2015-01-10 20:53:28</td>\n",
       "      <td>1</td>\n",
       "      <td>3.30</td>\n",
       "      <td>-74.001648</td>\n",
       "      <td>40.724243</td>\n",
       "      <td>1</td>\n",
       "      <td>N</td>\n",
       "      <td>-73.994415</td>\n",
       "      <td>40.759109</td>\n",
       "      <td>1</td>\n",
       "      <td>14.5</td>\n",
       "      <td>0.5</td>\n",
       "      <td>0.5</td>\n",
       "      <td>2.00</td>\n",
       "      <td>0.0</td>\n",
       "      <td>0.3</td>\n",
       "      <td>17.80</td>\n",
       "    </tr>\n",
       "    <tr>\n",
       "      <th>2</th>\n",
       "      <td>1</td>\n",
       "      <td>2015-01-10 20:33:38</td>\n",
       "      <td>2015-01-10 20:43:41</td>\n",
       "      <td>1</td>\n",
       "      <td>1.80</td>\n",
       "      <td>-73.963341</td>\n",
       "      <td>40.802788</td>\n",
       "      <td>1</td>\n",
       "      <td>N</td>\n",
       "      <td>-73.951820</td>\n",
       "      <td>40.824413</td>\n",
       "      <td>2</td>\n",
       "      <td>9.5</td>\n",
       "      <td>0.5</td>\n",
       "      <td>0.5</td>\n",
       "      <td>0.00</td>\n",
       "      <td>0.0</td>\n",
       "      <td>0.3</td>\n",
       "      <td>10.80</td>\n",
       "    </tr>\n",
       "    <tr>\n",
       "      <th>3</th>\n",
       "      <td>1</td>\n",
       "      <td>2015-01-10 20:33:39</td>\n",
       "      <td>2015-01-10 20:35:31</td>\n",
       "      <td>1</td>\n",
       "      <td>0.50</td>\n",
       "      <td>-74.009087</td>\n",
       "      <td>40.713818</td>\n",
       "      <td>1</td>\n",
       "      <td>N</td>\n",
       "      <td>-74.004326</td>\n",
       "      <td>40.719986</td>\n",
       "      <td>2</td>\n",
       "      <td>3.5</td>\n",
       "      <td>0.5</td>\n",
       "      <td>0.5</td>\n",
       "      <td>0.00</td>\n",
       "      <td>0.0</td>\n",
       "      <td>0.3</td>\n",
       "      <td>4.80</td>\n",
       "    </tr>\n",
       "    <tr>\n",
       "      <th>4</th>\n",
       "      <td>1</td>\n",
       "      <td>2015-01-10 20:33:39</td>\n",
       "      <td>2015-01-10 20:52:58</td>\n",
       "      <td>1</td>\n",
       "      <td>3.00</td>\n",
       "      <td>-73.971176</td>\n",
       "      <td>40.762428</td>\n",
       "      <td>1</td>\n",
       "      <td>N</td>\n",
       "      <td>-74.004181</td>\n",
       "      <td>40.742653</td>\n",
       "      <td>2</td>\n",
       "      <td>15.0</td>\n",
       "      <td>0.5</td>\n",
       "      <td>0.5</td>\n",
       "      <td>0.00</td>\n",
       "      <td>0.0</td>\n",
       "      <td>0.3</td>\n",
       "      <td>16.30</td>\n",
       "    </tr>\n",
       "  </tbody>\n",
       "</table>\n",
       "</div>"
      ],
      "text/plain": [
       "   VendorID tpep_pickup_datetime tpep_dropoff_datetime  passenger_count  \\\n",
       "0         2  2015-01-15 19:05:39   2015-01-15 19:23:42                1   \n",
       "1         1  2015-01-10 20:33:38   2015-01-10 20:53:28                1   \n",
       "2         1  2015-01-10 20:33:38   2015-01-10 20:43:41                1   \n",
       "3         1  2015-01-10 20:33:39   2015-01-10 20:35:31                1   \n",
       "4         1  2015-01-10 20:33:39   2015-01-10 20:52:58                1   \n",
       "\n",
       "   trip_distance  pickup_longitude  pickup_latitude  RateCodeID  \\\n",
       "0           1.59        -73.993896        40.750111           1   \n",
       "1           3.30        -74.001648        40.724243           1   \n",
       "2           1.80        -73.963341        40.802788           1   \n",
       "3           0.50        -74.009087        40.713818           1   \n",
       "4           3.00        -73.971176        40.762428           1   \n",
       "\n",
       "  store_and_fwd_flag  dropoff_longitude  dropoff_latitude  payment_type  \\\n",
       "0                  N         -73.974785         40.750618             1   \n",
       "1                  N         -73.994415         40.759109             1   \n",
       "2                  N         -73.951820         40.824413             2   \n",
       "3                  N         -74.004326         40.719986             2   \n",
       "4                  N         -74.004181         40.742653             2   \n",
       "\n",
       "   fare_amount  extra  mta_tax  tip_amount  tolls_amount  \\\n",
       "0         12.0    1.0      0.5        3.25           0.0   \n",
       "1         14.5    0.5      0.5        2.00           0.0   \n",
       "2          9.5    0.5      0.5        0.00           0.0   \n",
       "3          3.5    0.5      0.5        0.00           0.0   \n",
       "4         15.0    0.5      0.5        0.00           0.0   \n",
       "\n",
       "   improvement_surcharge  total_amount  \n",
       "0                    0.3         17.05  \n",
       "1                    0.3         17.80  \n",
       "2                    0.3         10.80  \n",
       "3                    0.3          4.80  \n",
       "4                    0.3         16.30  "
      ]
     },
     "execution_count": 5,
     "metadata": {},
     "output_type": "execute_result"
    }
   ],
   "source": [
    "data.head()"
   ]
  },
  {
   "cell_type": "code",
   "execution_count": 6,
   "metadata": {
    "colab": {
     "base_uri": "https://localhost:8080/",
     "height": 680
    },
    "execution": {
     "iopub.execute_input": "2024-01-04T12:35:43.646961Z",
     "iopub.status.busy": "2024-01-04T12:35:43.646505Z",
     "iopub.status.idle": "2024-01-04T12:35:47.245351Z",
     "shell.execute_reply": "2024-01-04T12:35:47.24424Z",
     "shell.execute_reply.started": "2024-01-04T12:35:43.646925Z"
    },
    "executionInfo": {
     "elapsed": 2453,
     "status": "ok",
     "timestamp": 1731224107522,
     "user": {
      "displayName": "Upendra Kumar",
      "userId": "15397436869538451510"
     },
     "user_tz": -60
    },
    "id": "Ha7RbouA_VJJ",
    "outputId": "6d5a09da-6a29-4f54-fa27-a171dc1b91e5"
   },
   "outputs": [
    {
     "data": {
      "text/plain": [
       "VendorID                 0\n",
       "tpep_pickup_datetime     0\n",
       "tpep_dropoff_datetime    0\n",
       "passenger_count          0\n",
       "trip_distance            0\n",
       "pickup_longitude         0\n",
       "pickup_latitude          0\n",
       "RateCodeID               0\n",
       "store_and_fwd_flag       0\n",
       "dropoff_longitude        0\n",
       "dropoff_latitude         0\n",
       "payment_type             0\n",
       "fare_amount              0\n",
       "extra                    0\n",
       "mta_tax                  0\n",
       "tip_amount               0\n",
       "tolls_amount             0\n",
       "improvement_surcharge    3\n",
       "total_amount             0\n",
       "dtype: int64"
      ]
     },
     "execution_count": 6,
     "metadata": {},
     "output_type": "execute_result"
    }
   ],
   "source": [
    "data.isna().sum()"
   ]
  },
  {
   "cell_type": "code",
   "execution_count": 7,
   "metadata": {
    "colab": {
     "base_uri": "https://localhost:8080/",
     "height": 680
    },
    "executionInfo": {
     "elapsed": 5568,
     "status": "ok",
     "timestamp": 1731224117206,
     "user": {
      "displayName": "Upendra Kumar",
      "userId": "15397436869538451510"
     },
     "user_tz": -60
    },
    "id": "Fz0YzFks1rkW",
    "outputId": "75dd50f2-231d-4b8e-a38c-59a6d9aa563f"
   },
   "outputs": [
    {
     "data": {
      "text/plain": [
       "VendorID                 0\n",
       "tpep_pickup_datetime     0\n",
       "tpep_dropoff_datetime    0\n",
       "passenger_count          0\n",
       "trip_distance            0\n",
       "pickup_longitude         0\n",
       "pickup_latitude          0\n",
       "RateCodeID               0\n",
       "store_and_fwd_flag       0\n",
       "dropoff_longitude        0\n",
       "dropoff_latitude         0\n",
       "payment_type             0\n",
       "fare_amount              0\n",
       "extra                    0\n",
       "mta_tax                  0\n",
       "tip_amount               0\n",
       "tolls_amount             0\n",
       "improvement_surcharge    0\n",
       "total_amount             0\n",
       "dtype: int64"
      ]
     },
     "execution_count": 7,
     "metadata": {},
     "output_type": "execute_result"
    }
   ],
   "source": [
    "data = data.dropna(axis=0)\n",
    "data.isna().sum()"
   ]
  },
  {
   "cell_type": "code",
   "execution_count": 8,
   "metadata": {
    "colab": {
     "base_uri": "https://localhost:8080/"
    },
    "executionInfo": {
     "elapsed": 269,
     "status": "ok",
     "timestamp": 1731224124297,
     "user": {
      "displayName": "Upendra Kumar",
      "userId": "15397436869538451510"
     },
     "user_tz": -60
    },
    "id": "bEkrZop52gv-",
    "outputId": "e12adc6b-d7af-4268-8d98-2049ef66b4d4"
   },
   "outputs": [
    {
     "data": {
      "text/plain": [
       "(12748983, 19)"
      ]
     },
     "execution_count": 8,
     "metadata": {},
     "output_type": "execute_result"
    }
   ],
   "source": [
    "data.shape"
   ]
  },
  {
   "cell_type": "markdown",
   "metadata": {
    "id": "8fA9zVcJ_VJM"
   },
   "source": [
    "## 2.Pre-Processing"
   ]
  },
  {
   "cell_type": "code",
   "execution_count": 9,
   "metadata": {
    "colab": {
     "base_uri": "https://localhost:8080/",
     "height": 255
    },
    "execution": {
     "iopub.execute_input": "2024-01-04T12:35:47.250892Z",
     "iopub.status.busy": "2024-01-04T12:35:47.250516Z",
     "iopub.status.idle": "2024-01-04T12:36:10.024547Z",
     "shell.execute_reply": "2024-01-04T12:36:10.023342Z",
     "shell.execute_reply.started": "2024-01-04T12:35:47.250854Z"
    },
    "executionInfo": {
     "elapsed": 22957,
     "status": "ok",
     "timestamp": 1731224152941,
     "user": {
      "displayName": "Upendra Kumar",
      "userId": "15397436869538451510"
     },
     "user_tz": -60
    },
    "id": "kjTq3eyA_VJP",
    "outputId": "3a8ed38d-1f4c-4091-8b11-0fe0a55b94e8"
   },
   "outputs": [
    {
     "data": {
      "text/html": [
       "<div>\n",
       "<style scoped>\n",
       "    .dataframe tbody tr th:only-of-type {\n",
       "        vertical-align: middle;\n",
       "    }\n",
       "\n",
       "    .dataframe tbody tr th {\n",
       "        vertical-align: top;\n",
       "    }\n",
       "\n",
       "    .dataframe thead th {\n",
       "        text-align: right;\n",
       "    }\n",
       "</style>\n",
       "<table border=\"1\" class=\"dataframe\">\n",
       "  <thead>\n",
       "    <tr style=\"text-align: right;\">\n",
       "      <th></th>\n",
       "      <th>VendorID</th>\n",
       "      <th>passenger_count</th>\n",
       "      <th>trip_distance</th>\n",
       "      <th>pickup_longitude</th>\n",
       "      <th>pickup_latitude</th>\n",
       "      <th>RateCodeID</th>\n",
       "      <th>store_and_fwd_flag</th>\n",
       "      <th>dropoff_longitude</th>\n",
       "      <th>dropoff_latitude</th>\n",
       "      <th>payment_type</th>\n",
       "      <th>...</th>\n",
       "      <th>tip_amount</th>\n",
       "      <th>tolls_amount</th>\n",
       "      <th>improvement_surcharge</th>\n",
       "      <th>total_amount</th>\n",
       "      <th>pickup_hour</th>\n",
       "      <th>pickup_day</th>\n",
       "      <th>pickup_month</th>\n",
       "      <th>dropoff_hour</th>\n",
       "      <th>dropoff_day</th>\n",
       "      <th>dropoff_month</th>\n",
       "    </tr>\n",
       "  </thead>\n",
       "  <tbody>\n",
       "    <tr>\n",
       "      <th>0</th>\n",
       "      <td>2</td>\n",
       "      <td>1</td>\n",
       "      <td>-0.001206</td>\n",
       "      <td>-0.141436</td>\n",
       "      <td>0.139331</td>\n",
       "      <td>1</td>\n",
       "      <td>0</td>\n",
       "      <td>-0.137039</td>\n",
       "      <td>0.136850</td>\n",
       "      <td>1</td>\n",
       "      <td>...</td>\n",
       "      <td>0.001262</td>\n",
       "      <td>-0.159444</td>\n",
       "      <td>0.243998</td>\n",
       "      <td>0.001755</td>\n",
       "      <td>19</td>\n",
       "      <td>15</td>\n",
       "      <td>1</td>\n",
       "      <td>19</td>\n",
       "      <td>15</td>\n",
       "      <td>1</td>\n",
       "    </tr>\n",
       "    <tr>\n",
       "      <th>1</th>\n",
       "      <td>1</td>\n",
       "      <td>1</td>\n",
       "      <td>-0.001032</td>\n",
       "      <td>-0.142201</td>\n",
       "      <td>0.134694</td>\n",
       "      <td>1</td>\n",
       "      <td>0</td>\n",
       "      <td>-0.139009</td>\n",
       "      <td>0.138398</td>\n",
       "      <td>1</td>\n",
       "      <td>...</td>\n",
       "      <td>0.000132</td>\n",
       "      <td>-0.159444</td>\n",
       "      <td>0.243998</td>\n",
       "      <td>0.002433</td>\n",
       "      <td>20</td>\n",
       "      <td>10</td>\n",
       "      <td>1</td>\n",
       "      <td>20</td>\n",
       "      <td>10</td>\n",
       "      <td>1</td>\n",
       "    </tr>\n",
       "    <tr>\n",
       "      <th>2</th>\n",
       "      <td>1</td>\n",
       "      <td>1</td>\n",
       "      <td>-0.001184</td>\n",
       "      <td>-0.138418</td>\n",
       "      <td>0.148773</td>\n",
       "      <td>1</td>\n",
       "      <td>0</td>\n",
       "      <td>-0.134735</td>\n",
       "      <td>0.150298</td>\n",
       "      <td>2</td>\n",
       "      <td>...</td>\n",
       "      <td>-0.001675</td>\n",
       "      <td>-0.159444</td>\n",
       "      <td>0.243998</td>\n",
       "      <td>-0.003894</td>\n",
       "      <td>20</td>\n",
       "      <td>10</td>\n",
       "      <td>1</td>\n",
       "      <td>20</td>\n",
       "      <td>10</td>\n",
       "      <td>1</td>\n",
       "    </tr>\n",
       "    <tr>\n",
       "      <th>3</th>\n",
       "      <td>1</td>\n",
       "      <td>1</td>\n",
       "      <td>-0.001316</td>\n",
       "      <td>-0.142936</td>\n",
       "      <td>0.132825</td>\n",
       "      <td>1</td>\n",
       "      <td>0</td>\n",
       "      <td>-0.140003</td>\n",
       "      <td>0.131268</td>\n",
       "      <td>2</td>\n",
       "      <td>...</td>\n",
       "      <td>-0.001675</td>\n",
       "      <td>-0.159444</td>\n",
       "      <td>0.243998</td>\n",
       "      <td>-0.009316</td>\n",
       "      <td>20</td>\n",
       "      <td>10</td>\n",
       "      <td>1</td>\n",
       "      <td>20</td>\n",
       "      <td>10</td>\n",
       "      <td>1</td>\n",
       "    </tr>\n",
       "    <tr>\n",
       "      <th>4</th>\n",
       "      <td>1</td>\n",
       "      <td>1</td>\n",
       "      <td>-0.001062</td>\n",
       "      <td>-0.139192</td>\n",
       "      <td>0.141539</td>\n",
       "      <td>1</td>\n",
       "      <td>0</td>\n",
       "      <td>-0.139989</td>\n",
       "      <td>0.135399</td>\n",
       "      <td>2</td>\n",
       "      <td>...</td>\n",
       "      <td>-0.001675</td>\n",
       "      <td>-0.159444</td>\n",
       "      <td>0.243998</td>\n",
       "      <td>0.001077</td>\n",
       "      <td>20</td>\n",
       "      <td>10</td>\n",
       "      <td>1</td>\n",
       "      <td>20</td>\n",
       "      <td>10</td>\n",
       "      <td>1</td>\n",
       "    </tr>\n",
       "  </tbody>\n",
       "</table>\n",
       "<p>5 rows × 23 columns</p>\n",
       "</div>"
      ],
      "text/plain": [
       "   VendorID  passenger_count  trip_distance  pickup_longitude  \\\n",
       "0         2                1      -0.001206         -0.141436   \n",
       "1         1                1      -0.001032         -0.142201   \n",
       "2         1                1      -0.001184         -0.138418   \n",
       "3         1                1      -0.001316         -0.142936   \n",
       "4         1                1      -0.001062         -0.139192   \n",
       "\n",
       "   pickup_latitude  RateCodeID  store_and_fwd_flag  dropoff_longitude  \\\n",
       "0         0.139331           1                   0          -0.137039   \n",
       "1         0.134694           1                   0          -0.139009   \n",
       "2         0.148773           1                   0          -0.134735   \n",
       "3         0.132825           1                   0          -0.140003   \n",
       "4         0.141539           1                   0          -0.139989   \n",
       "\n",
       "   dropoff_latitude  payment_type  ...  tip_amount  tolls_amount  \\\n",
       "0          0.136850             1  ...    0.001262     -0.159444   \n",
       "1          0.138398             1  ...    0.000132     -0.159444   \n",
       "2          0.150298             2  ...   -0.001675     -0.159444   \n",
       "3          0.131268             2  ...   -0.001675     -0.159444   \n",
       "4          0.135399             2  ...   -0.001675     -0.159444   \n",
       "\n",
       "   improvement_surcharge  total_amount  pickup_hour  pickup_day  pickup_month  \\\n",
       "0               0.243998      0.001755           19          15             1   \n",
       "1               0.243998      0.002433           20          10             1   \n",
       "2               0.243998     -0.003894           20          10             1   \n",
       "3               0.243998     -0.009316           20          10             1   \n",
       "4               0.243998      0.001077           20          10             1   \n",
       "\n",
       "   dropoff_hour  dropoff_day  dropoff_month  \n",
       "0            19           15              1  \n",
       "1            20           10              1  \n",
       "2            20           10              1  \n",
       "3            20           10              1  \n",
       "4            20           10              1  \n",
       "\n",
       "[5 rows x 23 columns]"
      ]
     },
     "execution_count": 9,
     "metadata": {},
     "output_type": "execute_result"
    }
   ],
   "source": [
    "# Convert Y/N to 1/0\n",
    "data['store_and_fwd_flag'] = LabelEncoder().fit_transform(data['store_and_fwd_flag'])\n",
    "\n",
    "# Convert timestamp columns to datetime\n",
    "data['tpep_pickup_datetime'] = pd.to_datetime(data['tpep_pickup_datetime'])\n",
    "data['tpep_dropoff_datetime'] = pd.to_datetime(data['tpep_dropoff_datetime'])\n",
    "\n",
    "# Extract features from timestamp columns (hour, day, month)\n",
    "data['pickup_hour'] = data['tpep_pickup_datetime'].dt.hour\n",
    "data['pickup_day'] = data['tpep_pickup_datetime'].dt.day\n",
    "data['pickup_month'] = data['tpep_pickup_datetime'].dt.month\n",
    "data['dropoff_hour'] = data['tpep_dropoff_datetime'].dt.hour\n",
    "data['dropoff_day'] = data['tpep_dropoff_datetime'].dt.day\n",
    "data['dropoff_month'] = data['tpep_dropoff_datetime'].dt.month\n",
    "\n",
    "# Drop unnecessary columns\n",
    "data.drop(['tpep_pickup_datetime', 'tpep_dropoff_datetime'], axis=1, inplace=True)\n",
    "\n",
    "# Standardize numerical features\n",
    "numerical_features = ['trip_distance', 'pickup_longitude', 'pickup_latitude', 'dropoff_longitude', 'dropoff_latitude', 'fare_amount', 'extra', 'mta_tax', 'tip_amount', 'tolls_amount', 'improvement_surcharge', 'total_amount']\n",
    "data[numerical_features] = StandardScaler().fit_transform(data[numerical_features])\n",
    "\n",
    "# Display the preprocessed data\n",
    "data.head()"
   ]
  },
  {
   "cell_type": "code",
   "execution_count": 10,
   "metadata": {
    "colab": {
     "base_uri": "https://localhost:8080/",
     "height": 272
    },
    "execution": {
     "iopub.execute_input": "2024-01-04T12:44:42.52164Z",
     "iopub.status.busy": "2024-01-04T12:44:42.521193Z",
     "iopub.status.idle": "2024-01-04T12:44:42.633915Z",
     "shell.execute_reply": "2024-01-04T12:44:42.632869Z",
     "shell.execute_reply.started": "2024-01-04T12:44:42.521603Z"
    },
    "executionInfo": {
     "elapsed": 253,
     "status": "ok",
     "timestamp": 1731224169888,
     "user": {
      "displayName": "Upendra Kumar",
      "userId": "15397436869538451510"
     },
     "user_tz": -60
    },
    "id": "q0GiEQSw_VJR",
    "outputId": "9569c2e9-798d-424d-eedd-836a548a39e3"
   },
   "outputs": [
    {
     "data": {
      "text/plain": [
       "payment_type\n",
       "1    7881385\n",
       "2    4816992\n",
       "3      38632\n",
       "4      11972\n",
       "5          2\n",
       "Name: count, dtype: int64"
      ]
     },
     "execution_count": 10,
     "metadata": {},
     "output_type": "execute_result"
    }
   ],
   "source": [
    "data.payment_type.value_counts()"
   ]
  },
  {
   "cell_type": "markdown",
   "metadata": {
    "id": "7EgB2fZE_VJT"
   },
   "source": [
    "## Determine No of Clusters"
   ]
  },
  {
   "cell_type": "code",
   "execution_count": 11,
   "metadata": {
    "colab": {
     "base_uri": "https://localhost:8080/"
    },
    "execution": {
     "iopub.execute_input": "2024-01-04T12:36:15.15678Z",
     "iopub.status.busy": "2024-01-04T12:36:15.15636Z",
     "iopub.status.idle": "2024-01-04T12:36:15.164503Z",
     "shell.execute_reply": "2024-01-04T12:36:15.163467Z",
     "shell.execute_reply.started": "2024-01-04T12:36:15.156748Z"
    },
    "executionInfo": {
     "elapsed": 279,
     "status": "ok",
     "timestamp": 1731224173994,
     "user": {
      "displayName": "Upendra Kumar",
      "userId": "15397436869538451510"
     },
     "user_tz": -60
    },
    "id": "vV-vOhRL_VJU",
    "outputId": "fe65900d-63e2-47df-fee6-88486d7a2223"
   },
   "outputs": [
    {
     "data": {
      "text/plain": [
       "Index(['VendorID', 'passenger_count', 'trip_distance', 'pickup_longitude',\n",
       "       'pickup_latitude', 'RateCodeID', 'store_and_fwd_flag',\n",
       "       'dropoff_longitude', 'dropoff_latitude', 'payment_type', 'fare_amount',\n",
       "       'extra', 'mta_tax', 'tip_amount', 'tolls_amount',\n",
       "       'improvement_surcharge', 'total_amount', 'pickup_hour', 'pickup_day',\n",
       "       'pickup_month', 'dropoff_hour', 'dropoff_day', 'dropoff_month'],\n",
       "      dtype='object')"
      ]
     },
     "execution_count": 11,
     "metadata": {},
     "output_type": "execute_result"
    }
   ],
   "source": [
    "data.columns"
   ]
  },
  {
   "cell_type": "code",
   "execution_count": 12,
   "metadata": {
    "colab": {
     "base_uri": "https://localhost:8080/"
    },
    "execution": {
     "iopub.execute_input": "2024-01-04T12:42:31.681769Z",
     "iopub.status.busy": "2024-01-04T12:42:31.681314Z",
     "iopub.status.idle": "2024-01-04T12:42:31.689548Z",
     "shell.execute_reply": "2024-01-04T12:42:31.688151Z",
     "shell.execute_reply.started": "2024-01-04T12:42:31.681725Z"
    },
    "executionInfo": {
     "elapsed": 270,
     "status": "ok",
     "timestamp": 1731224178093,
     "user": {
      "displayName": "Upendra Kumar",
      "userId": "15397436869538451510"
     },
     "user_tz": -60
    },
    "id": "xYR-LOb-_VJV",
    "outputId": "3d6dcd44-c66b-4453-fb9d-9acbd6f2d19a"
   },
   "outputs": [
    {
     "data": {
      "text/plain": [
       "(12748983, 23)"
      ]
     },
     "execution_count": 12,
     "metadata": {},
     "output_type": "execute_result"
    }
   ],
   "source": [
    "data.shape"
   ]
  },
  {
   "cell_type": "code",
   "execution_count": 13,
   "metadata": {
    "colab": {
     "base_uri": "https://localhost:8080/"
    },
    "execution": {
     "iopub.execute_input": "2024-01-04T12:45:49.367069Z",
     "iopub.status.busy": "2024-01-04T12:45:49.366665Z",
     "iopub.status.idle": "2024-01-04T12:45:49.37468Z",
     "shell.execute_reply": "2024-01-04T12:45:49.37365Z",
     "shell.execute_reply.started": "2024-01-04T12:45:49.367038Z"
    },
    "executionInfo": {
     "elapsed": 267,
     "status": "ok",
     "timestamp": 1731224181611,
     "user": {
      "displayName": "Upendra Kumar",
      "userId": "15397436869538451510"
     },
     "user_tz": -60
    },
    "id": "w0eZ1GrJ_VJV",
    "outputId": "3eb2a1f1-3b3d-4509-dfae-b0e15e142798"
   },
   "outputs": [
    {
     "data": {
      "text/plain": [
       "19"
      ]
     },
     "execution_count": 13,
     "metadata": {},
     "output_type": "execute_result"
    }
   ],
   "source": [
    "# Select all features for clustering\n",
    "features_for_clustering = ['pickup_longitude', 'pickup_latitude', 'dropoff_longitude', 'dropoff_latitude',\n",
    "                               'passenger_count', 'trip_distance', 'fare_amount', 'extra', 'mta_tax',\n",
    "                               'tip_amount', 'tolls_amount', 'improvement_surcharge', 'total_amount', 'pickup_hour', 'pickup_day',\n",
    "       'pickup_month', 'dropoff_hour', 'dropoff_day', 'dropoff_month']\n",
    "len(features_for_clustering)"
   ]
  },
  {
   "cell_type": "code",
   "execution_count": 13,
   "metadata": {
    "colab": {
     "base_uri": "https://localhost:8080/"
    },
    "execution": {
     "iopub.execute_input": "2024-01-04T13:30:51.348113Z",
     "iopub.status.busy": "2024-01-04T13:30:51.347619Z",
     "iopub.status.idle": "2024-01-04T13:49:15.093728Z",
     "shell.execute_reply": "2024-01-04T13:49:15.092012Z",
     "shell.execute_reply.started": "2024-01-04T13:30:51.348076Z"
    },
    "executionInfo": {
     "elapsed": 1083607,
     "status": "ok",
     "timestamp": 1731216270350,
     "user": {
      "displayName": "Upendra Kumar",
      "userId": "15397436869538451510"
     },
     "user_tz": -60
    },
    "id": "BL1Q__FA_VJW",
    "outputId": "2998b273-2d34-4014-ce56-f951c3c6266d"
   },
   "outputs": [
    {
     "name": "stdout",
     "output_type": "stream",
     "text": [
      "Training for No of Clusters- 2 completed!!\n",
      "Training for No of Clusters- 3 completed!!\n",
      "Training for No of Clusters- 4 completed!!\n",
      "Training for No of Clusters- 5 completed!!\n",
      "Training for No of Clusters- 6 completed!!\n",
      "Training for No of Clusters- 7 completed!!\n",
      "Training for No of Clusters- 8 completed!!\n",
      "Training for No of Clusters- 9 completed!!\n",
      "Training for No of Clusters- 10 completed!!\n"
     ]
    }
   ],
   "source": [
    "from sklearn.cluster import MiniBatchKMeans\n",
    "from sklearn.metrics import silhouette_score\n",
    "import numpy as np\n",
    "import pandas as pd\n",
    "\n",
    "# Deciding no of clusters upon 10Lakhs Sample\n",
    "X = data[features_for_clustering].sample(100000)\n",
    "\n",
    "# Assuming 'data' is your pre-processed DataFrame\n",
    "n_samples = len(X)\n",
    "n_clusters_range = range(2, 11)  # Number of clusters range from 2 to 10\n",
    "\n",
    "# Specify the number of chunks\n",
    "n_chunks = 10\n",
    "chunk_size = n_samples // n_chunks\n",
    "\n",
    "# Placeholder for silhouette scores\n",
    "silhouette_scores = []\n",
    "inertia = []\n",
    "\n",
    "# Loop through different cluster numbers\n",
    "for n_clusters in n_clusters_range:\n",
    "    # Initialize MiniBatchKMeans\n",
    "    mbkmeans = MiniBatchKMeans(n_clusters=n_clusters, random_state=42, n_init='auto', batch_size=10000)\n",
    "\n",
    "    # Loop through chunks\n",
    "    for i in range(n_chunks):\n",
    "        # Determine start and end index for the chunk\n",
    "        start_idx = i * chunk_size\n",
    "        end_idx = (i + 1) * chunk_size if i < n_chunks - 1 else n_samples\n",
    "\n",
    "        # Extract the chunk\n",
    "        chunk = X.iloc[start_idx:end_idx]\n",
    "\n",
    "\n",
    "        # Partially fit the model on the chunk\n",
    "        mbkmeans.partial_fit(chunk)\n",
    "\n",
    "\n",
    "    # Predict clusters for all data points\n",
    "    labels = mbkmeans.predict(X)\n",
    "\n",
    "    # Inertia\n",
    "    inertia.append(mbkmeans.inertia_)\n",
    "    # Calculate silhouette score\n",
    "    silhouette = silhouette_score(X, labels)\n",
    "    silhouette_scores.append(silhouette)\n",
    "    print(f\"Training for No of Clusters- {n_clusters} completed!!\")"
   ]
  },
  {
   "cell_type": "code",
   "execution_count": 14,
   "metadata": {
    "colab": {
     "base_uri": "https://localhost:8080/",
     "height": 472
    },
    "execution": {
     "iopub.execute_input": "2024-01-04T13:49:15.096785Z",
     "iopub.status.busy": "2024-01-04T13:49:15.096353Z",
     "iopub.status.idle": "2024-01-04T13:49:15.431076Z",
     "shell.execute_reply": "2024-01-04T13:49:15.429788Z",
     "shell.execute_reply.started": "2024-01-04T13:49:15.096748Z"
    },
    "executionInfo": {
     "elapsed": 758,
     "status": "ok",
     "timestamp": 1731216271064,
     "user": {
      "displayName": "Upendra Kumar",
      "userId": "15397436869538451510"
     },
     "user_tz": -60
    },
    "id": "_2a1mIY3_VJX",
    "outputId": "26ce0d8a-269d-4143-8b9b-18627be4e685"
   },
   "outputs": [
    {
     "data": {
      "image/png": "[encoded data removed]",
      "text/plain": [
       "<Figure size 640x480 with 1 Axes>"
      ]
     },
     "metadata": {},
     "output_type": "display_data"
    }
   ],
   "source": [
    "import matplotlib.pyplot as plt\n",
    "\n",
    "# Plot the silhouette scores\n",
    "plt.plot(n_clusters_range, silhouette_scores, marker='o')\n",
    "plt.xlabel('Number of Clusters')\n",
    "plt.ylabel('Silhouette Score')\n",
    "plt.title('Silhouette Score for Different Numbers of Clusters')\n",
    "plt.show()"
   ]
  },
  {
   "cell_type": "markdown",
   "metadata": {
    "id": "gne5XMnx_VJY"
   },
   "source": [
    "* As per silhouette, No of Clusters = 2"
   ]
  },
  {
   "cell_type": "code",
   "execution_count": 15,
   "metadata": {
    "colab": {
     "base_uri": "https://localhost:8080/",
     "height": 472
    },
    "execution": {
     "iopub.execute_input": "2024-01-04T13:49:30.858579Z",
     "iopub.status.busy": "2024-01-04T13:49:30.858125Z",
     "iopub.status.idle": "2024-01-04T13:49:31.184082Z",
     "shell.execute_reply": "2024-01-04T13:49:31.182764Z",
     "shell.execute_reply.started": "2024-01-04T13:49:30.85854Z"
    },
    "executionInfo": {
     "elapsed": 129,
     "status": "ok",
     "timestamp": 1731216271065,
     "user": {
      "displayName": "Upendra Kumar",
      "userId": "15397436869538451510"
     },
     "user_tz": -60
    },
    "id": "2q-9cuib_VJY",
    "outputId": "bcc4c909-6328-43be-ce46-6fb57b36b078"
   },
   "outputs": [
    {
     "data": {
      "image/png": "[encoded data removed]",
      "text/plain": [
       "<Figure size 640x480 with 1 Axes>"
      ]
     },
     "metadata": {},
     "output_type": "display_data"
    }
   ],
   "source": [
    "# Plot inertia vs No Of centroids\n",
    "plt.plot(n_clusters_range, inertia, marker='o')\n",
    "plt.xlabel('Number of Clusters')\n",
    "plt.ylabel('Inertia')\n",
    "plt.title('Inertia for Different Numbers of Clusters')\n",
    "plt.show()"
   ]
  },
  {
   "cell_type": "markdown",
   "metadata": {
    "id": "a_rpA6Nb_VJY"
   },
   "source": [
    "* As per Elbow method no of cluster: 5"
   ]
  },
  {
   "cell_type": "code",
   "execution_count": 16,
   "metadata": {
    "colab": {
     "base_uri": "https://localhost:8080/"
    },
    "execution": {
     "iopub.execute_input": "2024-01-04T13:50:11.603782Z",
     "iopub.status.busy": "2024-01-04T13:50:11.602899Z",
     "iopub.status.idle": "2024-01-04T13:50:11.611145Z",
     "shell.execute_reply": "2024-01-04T13:50:11.609973Z",
     "shell.execute_reply.started": "2024-01-04T13:50:11.60374Z"
    },
    "executionInfo": {
     "elapsed": 435,
     "status": "ok",
     "timestamp": 1731216271376,
     "user": {
      "displayName": "Upendra Kumar",
      "userId": "15397436869538451510"
     },
     "user_tz": -60
    },
    "id": "yXdYrthK_VJZ",
    "outputId": "a9da370f-2cd0-4883-d1de-d6b0146ffe44"
   },
   "outputs": [
    {
     "data": {
      "text/plain": [
       "[1342650.1243497925,\n",
       " 1080144.8814797702,\n",
       " 837273.0887155161,\n",
       " 723819.9103224877,\n",
       " 557560.8214970403,\n",
       " 505983.6804908658,\n",
       " 458040.2347107076,\n",
       " 413110.17560726125,\n",
       " 384415.7006585489]"
      ]
     },
     "execution_count": 16,
     "metadata": {},
     "output_type": "execute_result"
    }
   ],
   "source": [
    "inertia"
   ]
  },
  {
   "cell_type": "code",
   "execution_count": 17,
   "metadata": {
    "colab": {
     "base_uri": "https://localhost:8080/"
    },
    "execution": {
     "iopub.execute_input": "2024-01-04T13:50:37.854083Z",
     "iopub.status.busy": "2024-01-04T13:50:37.853638Z",
     "iopub.status.idle": "2024-01-04T13:50:37.863409Z",
     "shell.execute_reply": "2024-01-04T13:50:37.861849Z",
     "shell.execute_reply.started": "2024-01-04T13:50:37.854051Z"
    },
    "executionInfo": {
     "elapsed": 118,
     "status": "ok",
     "timestamp": 1731216271382,
     "user": {
      "displayName": "Upendra Kumar",
      "userId": "15397436869538451510"
     },
     "user_tz": -60
    },
    "id": "UQB4Tjas_VJZ",
    "outputId": "7a51a74f-daa4-4fa5-99d4-b0b7482296a2"
   },
   "outputs": [
    {
     "data": {
      "text/plain": [
       "[0.39411915932504865,\n",
       " 0.3013109936933909,\n",
       " 0.30734287206472494,\n",
       " 0.293437871978408,\n",
       " 0.3243686027504073,\n",
       " 0.29461157789695225,\n",
       " 0.2966718009610686,\n",
       " 0.30020588576869306,\n",
       " 0.29556087239578666]"
      ]
     },
     "execution_count": 17,
     "metadata": {},
     "output_type": "execute_result"
    }
   ],
   "source": [
    "silhouette_scores"
   ]
  },
  {
   "cell_type": "markdown",
   "metadata": {
    "id": "y7B_bHQLy3g2"
   },
   "source": [
    "## Now I am applying these values to whole data"
   ]
  },
  {
   "cell_type": "code",
   "execution_count": 14,
   "metadata": {
    "execution": {
     "iopub.execute_input": "2024-01-04T14:01:46.788185Z",
     "iopub.status.busy": "2024-01-04T14:01:46.787767Z",
     "iopub.status.idle": "2024-01-04T14:01:52.938236Z",
     "shell.execute_reply": "2024-01-04T14:01:52.937087Z",
     "shell.execute_reply.started": "2024-01-04T14:01:46.788154Z"
    },
    "executionInfo": {
     "elapsed": 11772,
     "status": "ok",
     "timestamp": 1731224208077,
     "user": {
      "displayName": "Upendra Kumar",
      "userId": "15397436869538451510"
     },
     "user_tz": -60
    },
    "id": "NEQlDGAs_VJZ"
   },
   "outputs": [],
   "source": [
    "# Taking optimal no of clusters as 5\n",
    "\n",
    "X = data[features_for_clustering]\n",
    "\n",
    "n_samples = len(X)\n",
    "\n",
    "# Specify the number of chunks\n",
    "n_chunks = 10\n",
    "chunk_size = n_samples // n_chunks\n",
    "\n",
    "# Initialize MiniBatchKMeans\n",
    "mbkmeans = MiniBatchKMeans(n_clusters=5, random_state=42, n_init='auto', batch_size=chunk_size)\n",
    "\n",
    "# Loop through chunks\n",
    "for i in range(n_chunks):\n",
    "    # Determine start and end index for the chunk\n",
    "    start_idx = i * chunk_size\n",
    "    end_idx = (i + 1) * chunk_size if i < n_chunks - 1 else n_samples\n",
    "\n",
    "    # Extract the chunk\n",
    "    chunk = X.iloc[start_idx:end_idx]\n",
    "\n",
    "    # Partially fit the model on the chunk\n",
    "    mbkmeans.partial_fit(chunk)\n",
    "\n",
    "# Predict clusters for all data points\n",
    "data['labels'] = mbkmeans.predict(X)"
   ]
  },
  {
   "cell_type": "code",
   "execution_count": 15,
   "metadata": {
    "colab": {
     "base_uri": "https://localhost:8080/",
     "height": 272
    },
    "execution": {
     "iopub.execute_input": "2024-01-04T14:01:53.44878Z",
     "iopub.status.busy": "2024-01-04T14:01:53.448309Z",
     "iopub.status.idle": "2024-01-04T14:01:53.52678Z",
     "shell.execute_reply": "2024-01-04T14:01:53.525444Z",
     "shell.execute_reply.started": "2024-01-04T14:01:53.448744Z"
    },
    "executionInfo": {
     "elapsed": 246,
     "status": "ok",
     "timestamp": 1731221884618,
     "user": {
      "displayName": "Upendra Kumar",
      "userId": "15397436869538451510"
     },
     "user_tz": -60
    },
    "id": "ikH7rE3y_VJa",
    "outputId": "ccb04b40-b472-4115-a5c3-fdb624429233"
   },
   "outputs": [
    {
     "data": {
      "text/plain": [
       "labels\n",
       "0    3399504\n",
       "2    3021880\n",
       "4    2428520\n",
       "3    2031637\n",
       "1    1867442\n",
       "Name: count, dtype: int64"
      ]
     },
     "execution_count": 15,
     "metadata": {},
     "output_type": "execute_result"
    }
   ],
   "source": [
    "data['labels'].value_counts()"
   ]
  },
  {
   "cell_type": "code",
   "execution_count": 16,
   "metadata": {
    "colab": {
     "base_uri": "https://localhost:8080/",
     "height": 255
    },
    "executionInfo": {
     "elapsed": 313,
     "status": "ok",
     "timestamp": 1731224268308,
     "user": {
      "displayName": "Upendra Kumar",
      "userId": "15397436869538451510"
     },
     "user_tz": -60
    },
    "id": "k1SAbZxx5gtz",
    "outputId": "5a330131-52c1-42aa-b285-f7751a879fb5"
   },
   "outputs": [
    {
     "data": {
      "text/html": [
       "<div>\n",
       "<style scoped>\n",
       "    .dataframe tbody tr th:only-of-type {\n",
       "        vertical-align: middle;\n",
       "    }\n",
       "\n",
       "    .dataframe tbody tr th {\n",
       "        vertical-align: top;\n",
       "    }\n",
       "\n",
       "    .dataframe thead th {\n",
       "        text-align: right;\n",
       "    }\n",
       "</style>\n",
       "<table border=\"1\" class=\"dataframe\">\n",
       "  <thead>\n",
       "    <tr style=\"text-align: right;\">\n",
       "      <th></th>\n",
       "      <th>VendorID</th>\n",
       "      <th>passenger_count</th>\n",
       "      <th>trip_distance</th>\n",
       "      <th>pickup_longitude</th>\n",
       "      <th>pickup_latitude</th>\n",
       "      <th>RateCodeID</th>\n",
       "      <th>store_and_fwd_flag</th>\n",
       "      <th>dropoff_longitude</th>\n",
       "      <th>dropoff_latitude</th>\n",
       "      <th>payment_type</th>\n",
       "      <th>...</th>\n",
       "      <th>tolls_amount</th>\n",
       "      <th>improvement_surcharge</th>\n",
       "      <th>total_amount</th>\n",
       "      <th>pickup_hour</th>\n",
       "      <th>pickup_day</th>\n",
       "      <th>pickup_month</th>\n",
       "      <th>dropoff_hour</th>\n",
       "      <th>dropoff_day</th>\n",
       "      <th>dropoff_month</th>\n",
       "      <th>labels</th>\n",
       "    </tr>\n",
       "  </thead>\n",
       "  <tbody>\n",
       "    <tr>\n",
       "      <th>0</th>\n",
       "      <td>2</td>\n",
       "      <td>1</td>\n",
       "      <td>-0.001206</td>\n",
       "      <td>-0.141436</td>\n",
       "      <td>0.139331</td>\n",
       "      <td>1</td>\n",
       "      <td>0</td>\n",
       "      <td>-0.137039</td>\n",
       "      <td>0.136850</td>\n",
       "      <td>1</td>\n",
       "      <td>...</td>\n",
       "      <td>-0.159444</td>\n",
       "      <td>0.243998</td>\n",
       "      <td>0.001755</td>\n",
       "      <td>19</td>\n",
       "      <td>15</td>\n",
       "      <td>1</td>\n",
       "      <td>19</td>\n",
       "      <td>15</td>\n",
       "      <td>1</td>\n",
       "      <td>0</td>\n",
       "    </tr>\n",
       "    <tr>\n",
       "      <th>1</th>\n",
       "      <td>1</td>\n",
       "      <td>1</td>\n",
       "      <td>-0.001032</td>\n",
       "      <td>-0.142201</td>\n",
       "      <td>0.134694</td>\n",
       "      <td>1</td>\n",
       "      <td>0</td>\n",
       "      <td>-0.139009</td>\n",
       "      <td>0.138398</td>\n",
       "      <td>1</td>\n",
       "      <td>...</td>\n",
       "      <td>-0.159444</td>\n",
       "      <td>0.243998</td>\n",
       "      <td>0.002433</td>\n",
       "      <td>20</td>\n",
       "      <td>10</td>\n",
       "      <td>1</td>\n",
       "      <td>20</td>\n",
       "      <td>10</td>\n",
       "      <td>1</td>\n",
       "      <td>0</td>\n",
       "    </tr>\n",
       "    <tr>\n",
       "      <th>2</th>\n",
       "      <td>1</td>\n",
       "      <td>1</td>\n",
       "      <td>-0.001184</td>\n",
       "      <td>-0.138418</td>\n",
       "      <td>0.148773</td>\n",
       "      <td>1</td>\n",
       "      <td>0</td>\n",
       "      <td>-0.134735</td>\n",
       "      <td>0.150298</td>\n",
       "      <td>2</td>\n",
       "      <td>...</td>\n",
       "      <td>-0.159444</td>\n",
       "      <td>0.243998</td>\n",
       "      <td>-0.003894</td>\n",
       "      <td>20</td>\n",
       "      <td>10</td>\n",
       "      <td>1</td>\n",
       "      <td>20</td>\n",
       "      <td>10</td>\n",
       "      <td>1</td>\n",
       "      <td>0</td>\n",
       "    </tr>\n",
       "    <tr>\n",
       "      <th>3</th>\n",
       "      <td>1</td>\n",
       "      <td>1</td>\n",
       "      <td>-0.001316</td>\n",
       "      <td>-0.142936</td>\n",
       "      <td>0.132825</td>\n",
       "      <td>1</td>\n",
       "      <td>0</td>\n",
       "      <td>-0.140003</td>\n",
       "      <td>0.131268</td>\n",
       "      <td>2</td>\n",
       "      <td>...</td>\n",
       "      <td>-0.159444</td>\n",
       "      <td>0.243998</td>\n",
       "      <td>-0.009316</td>\n",
       "      <td>20</td>\n",
       "      <td>10</td>\n",
       "      <td>1</td>\n",
       "      <td>20</td>\n",
       "      <td>10</td>\n",
       "      <td>1</td>\n",
       "      <td>0</td>\n",
       "    </tr>\n",
       "    <tr>\n",
       "      <th>4</th>\n",
       "      <td>1</td>\n",
       "      <td>1</td>\n",
       "      <td>-0.001062</td>\n",
       "      <td>-0.139192</td>\n",
       "      <td>0.141539</td>\n",
       "      <td>1</td>\n",
       "      <td>0</td>\n",
       "      <td>-0.139989</td>\n",
       "      <td>0.135399</td>\n",
       "      <td>2</td>\n",
       "      <td>...</td>\n",
       "      <td>-0.159444</td>\n",
       "      <td>0.243998</td>\n",
       "      <td>0.001077</td>\n",
       "      <td>20</td>\n",
       "      <td>10</td>\n",
       "      <td>1</td>\n",
       "      <td>20</td>\n",
       "      <td>10</td>\n",
       "      <td>1</td>\n",
       "      <td>0</td>\n",
       "    </tr>\n",
       "  </tbody>\n",
       "</table>\n",
       "<p>5 rows × 24 columns</p>\n",
       "</div>"
      ],
      "text/plain": [
       "   VendorID  passenger_count  trip_distance  pickup_longitude  \\\n",
       "0         2                1      -0.001206         -0.141436   \n",
       "1         1                1      -0.001032         -0.142201   \n",
       "2         1                1      -0.001184         -0.138418   \n",
       "3         1                1      -0.001316         -0.142936   \n",
       "4         1                1      -0.001062         -0.139192   \n",
       "\n",
       "   pickup_latitude  RateCodeID  store_and_fwd_flag  dropoff_longitude  \\\n",
       "0         0.139331           1                   0          -0.137039   \n",
       "1         0.134694           1                   0          -0.139009   \n",
       "2         0.148773           1                   0          -0.134735   \n",
       "3         0.132825           1                   0          -0.140003   \n",
       "4         0.141539           1                   0          -0.139989   \n",
       "\n",
       "   dropoff_latitude  payment_type  ...  tolls_amount  improvement_surcharge  \\\n",
       "0          0.136850             1  ...     -0.159444               0.243998   \n",
       "1          0.138398             1  ...     -0.159444               0.243998   \n",
       "2          0.150298             2  ...     -0.159444               0.243998   \n",
       "3          0.131268             2  ...     -0.159444               0.243998   \n",
       "4          0.135399             2  ...     -0.159444               0.243998   \n",
       "\n",
       "   total_amount  pickup_hour  pickup_day  pickup_month  dropoff_hour  \\\n",
       "0      0.001755           19          15             1            19   \n",
       "1      0.002433           20          10             1            20   \n",
       "2     -0.003894           20          10             1            20   \n",
       "3     -0.009316           20          10             1            20   \n",
       "4      0.001077           20          10             1            20   \n",
       "\n",
       "   dropoff_day  dropoff_month  labels  \n",
       "0           15              1       0  \n",
       "1           10              1       0  \n",
       "2           10              1       0  \n",
       "3           10              1       0  \n",
       "4           10              1       0  \n",
       "\n",
       "[5 rows x 24 columns]"
      ]
     },
     "execution_count": 16,
     "metadata": {},
     "output_type": "execute_result"
    }
   ],
   "source": [
    "data.head()"
   ]
  },
  {
   "cell_type": "code",
   "execution_count": 17,
   "metadata": {
    "colab": {
     "base_uri": "https://localhost:8080/"
    },
    "executionInfo": {
     "elapsed": 325,
     "status": "ok",
     "timestamp": 1731224289525,
     "user": {
      "displayName": "Upendra Kumar",
      "userId": "15397436869538451510"
     },
     "user_tz": -60
    },
    "id": "74vyTTmz3mP9",
    "outputId": "e00aa995-9ef9-4663-d1cd-e081de437185"
   },
   "outputs": [
    {
     "data": {
      "text/plain": [
       "(12748983, 24)"
      ]
     },
     "execution_count": 17,
     "metadata": {},
     "output_type": "execute_result"
    }
   ],
   "source": [
    "data.shape"
   ]
  },
  {
   "cell_type": "code",
   "execution_count": 18,
   "metadata": {
    "colab": {
     "base_uri": "https://localhost:8080/"
    },
    "executionInfo": {
     "elapsed": 269,
     "status": "ok",
     "timestamp": 1731224298329,
     "user": {
      "displayName": "Upendra Kumar",
      "userId": "15397436869538451510"
     },
     "user_tz": -60
    },
    "id": "pxFnj1D-3vL1",
    "outputId": "23e94a0c-d92f-47ac-d4f0-05b95624488d"
   },
   "outputs": [
    {
     "name": "stdout",
     "output_type": "stream",
     "text": [
      "['pickup_longitude', 'pickup_latitude', 'dropoff_longitude', 'dropoff_latitude', 'passenger_count', 'trip_distance', 'fare_amount', 'extra', 'mta_tax', 'tip_amount', 'tolls_amount', 'improvement_surcharge', 'total_amount', 'pickup_hour', 'pickup_day', 'pickup_month', 'dropoff_hour', 'dropoff_day', 'dropoff_month']\n"
     ]
    }
   ],
   "source": [
    "print(features_for_clustering)"
   ]
  },
  {
   "cell_type": "code",
   "execution_count": 19,
   "metadata": {
    "colab": {
     "base_uri": "https://localhost:8080/"
    },
    "executionInfo": {
     "elapsed": 266,
     "status": "ok",
     "timestamp": 1731224301411,
     "user": {
      "displayName": "Upendra Kumar",
      "userId": "15397436869538451510"
     },
     "user_tz": -60
    },
    "id": "bmn11amX33aG",
    "outputId": "a3bba5ee-dfdd-4362-91c7-c36fc0a77922"
   },
   "outputs": [
    {
     "data": {
      "text/plain": [
       "19"
      ]
     },
     "execution_count": 19,
     "metadata": {},
     "output_type": "execute_result"
    }
   ],
   "source": [
    "len(features_for_clustering)"
   ]
  },
  {
   "cell_type": "markdown",
   "metadata": {
    "id": "fPvtOwK-9zeB"
   },
   "source": [
    "## For plotting"
   ]
  },
  {
   "cell_type": "code",
   "execution_count": 20,
   "metadata": {
    "colab": {
     "base_uri": "https://localhost:8080/",
     "height": 158
    },
    "executionInfo": {
     "elapsed": 286,
     "status": "error",
     "timestamp": 1731224374695,
     "user": {
      "displayName": "Upendra Kumar",
      "userId": "15397436869538451510"
     },
     "user_tz": -60
    },
    "id": "bV_p6SiJ99Px",
    "outputId": "8cb2236e-64d0-4907-e870-ba6443f486a6"
   },
   "outputs": [
    {
     "data": {
      "text/html": [
       "<div>\n",
       "<style scoped>\n",
       "    .dataframe tbody tr th:only-of-type {\n",
       "        vertical-align: middle;\n",
       "    }\n",
       "\n",
       "    .dataframe tbody tr th {\n",
       "        vertical-align: top;\n",
       "    }\n",
       "\n",
       "    .dataframe thead th {\n",
       "        text-align: right;\n",
       "    }\n",
       "</style>\n",
       "<table border=\"1\" class=\"dataframe\">\n",
       "  <thead>\n",
       "    <tr style=\"text-align: right;\">\n",
       "      <th></th>\n",
       "      <th>VendorID</th>\n",
       "      <th>passenger_count</th>\n",
       "      <th>trip_distance</th>\n",
       "      <th>pickup_longitude</th>\n",
       "      <th>pickup_latitude</th>\n",
       "      <th>RateCodeID</th>\n",
       "      <th>store_and_fwd_flag</th>\n",
       "      <th>dropoff_longitude</th>\n",
       "      <th>dropoff_latitude</th>\n",
       "      <th>payment_type</th>\n",
       "      <th>...</th>\n",
       "      <th>tolls_amount</th>\n",
       "      <th>improvement_surcharge</th>\n",
       "      <th>total_amount</th>\n",
       "      <th>pickup_hour</th>\n",
       "      <th>pickup_day</th>\n",
       "      <th>pickup_month</th>\n",
       "      <th>dropoff_hour</th>\n",
       "      <th>dropoff_day</th>\n",
       "      <th>dropoff_month</th>\n",
       "      <th>labels</th>\n",
       "    </tr>\n",
       "  </thead>\n",
       "  <tbody>\n",
       "    <tr>\n",
       "      <th>0</th>\n",
       "      <td>2</td>\n",
       "      <td>1</td>\n",
       "      <td>-0.001206</td>\n",
       "      <td>-0.141436</td>\n",
       "      <td>0.139331</td>\n",
       "      <td>1</td>\n",
       "      <td>0</td>\n",
       "      <td>-0.137039</td>\n",
       "      <td>0.136850</td>\n",
       "      <td>1</td>\n",
       "      <td>...</td>\n",
       "      <td>-0.159444</td>\n",
       "      <td>0.243998</td>\n",
       "      <td>0.001755</td>\n",
       "      <td>19</td>\n",
       "      <td>15</td>\n",
       "      <td>1</td>\n",
       "      <td>19</td>\n",
       "      <td>15</td>\n",
       "      <td>1</td>\n",
       "      <td>0</td>\n",
       "    </tr>\n",
       "    <tr>\n",
       "      <th>1</th>\n",
       "      <td>1</td>\n",
       "      <td>1</td>\n",
       "      <td>-0.001032</td>\n",
       "      <td>-0.142201</td>\n",
       "      <td>0.134694</td>\n",
       "      <td>1</td>\n",
       "      <td>0</td>\n",
       "      <td>-0.139009</td>\n",
       "      <td>0.138398</td>\n",
       "      <td>1</td>\n",
       "      <td>...</td>\n",
       "      <td>-0.159444</td>\n",
       "      <td>0.243998</td>\n",
       "      <td>0.002433</td>\n",
       "      <td>20</td>\n",
       "      <td>10</td>\n",
       "      <td>1</td>\n",
       "      <td>20</td>\n",
       "      <td>10</td>\n",
       "      <td>1</td>\n",
       "      <td>0</td>\n",
       "    </tr>\n",
       "    <tr>\n",
       "      <th>2</th>\n",
       "      <td>1</td>\n",
       "      <td>1</td>\n",
       "      <td>-0.001184</td>\n",
       "      <td>-0.138418</td>\n",
       "      <td>0.148773</td>\n",
       "      <td>1</td>\n",
       "      <td>0</td>\n",
       "      <td>-0.134735</td>\n",
       "      <td>0.150298</td>\n",
       "      <td>2</td>\n",
       "      <td>...</td>\n",
       "      <td>-0.159444</td>\n",
       "      <td>0.243998</td>\n",
       "      <td>-0.003894</td>\n",
       "      <td>20</td>\n",
       "      <td>10</td>\n",
       "      <td>1</td>\n",
       "      <td>20</td>\n",
       "      <td>10</td>\n",
       "      <td>1</td>\n",
       "      <td>0</td>\n",
       "    </tr>\n",
       "    <tr>\n",
       "      <th>3</th>\n",
       "      <td>1</td>\n",
       "      <td>1</td>\n",
       "      <td>-0.001316</td>\n",
       "      <td>-0.142936</td>\n",
       "      <td>0.132825</td>\n",
       "      <td>1</td>\n",
       "      <td>0</td>\n",
       "      <td>-0.140003</td>\n",
       "      <td>0.131268</td>\n",
       "      <td>2</td>\n",
       "      <td>...</td>\n",
       "      <td>-0.159444</td>\n",
       "      <td>0.243998</td>\n",
       "      <td>-0.009316</td>\n",
       "      <td>20</td>\n",
       "      <td>10</td>\n",
       "      <td>1</td>\n",
       "      <td>20</td>\n",
       "      <td>10</td>\n",
       "      <td>1</td>\n",
       "      <td>0</td>\n",
       "    </tr>\n",
       "    <tr>\n",
       "      <th>4</th>\n",
       "      <td>1</td>\n",
       "      <td>1</td>\n",
       "      <td>-0.001062</td>\n",
       "      <td>-0.139192</td>\n",
       "      <td>0.141539</td>\n",
       "      <td>1</td>\n",
       "      <td>0</td>\n",
       "      <td>-0.139989</td>\n",
       "      <td>0.135399</td>\n",
       "      <td>2</td>\n",
       "      <td>...</td>\n",
       "      <td>-0.159444</td>\n",
       "      <td>0.243998</td>\n",
       "      <td>0.001077</td>\n",
       "      <td>20</td>\n",
       "      <td>10</td>\n",
       "      <td>1</td>\n",
       "      <td>20</td>\n",
       "      <td>10</td>\n",
       "      <td>1</td>\n",
       "      <td>0</td>\n",
       "    </tr>\n",
       "  </tbody>\n",
       "</table>\n",
       "<p>5 rows × 24 columns</p>\n",
       "</div>"
      ],
      "text/plain": [
       "   VendorID  passenger_count  trip_distance  pickup_longitude  \\\n",
       "0         2                1      -0.001206         -0.141436   \n",
       "1         1                1      -0.001032         -0.142201   \n",
       "2         1                1      -0.001184         -0.138418   \n",
       "3         1                1      -0.001316         -0.142936   \n",
       "4         1                1      -0.001062         -0.139192   \n",
       "\n",
       "   pickup_latitude  RateCodeID  store_and_fwd_flag  dropoff_longitude  \\\n",
       "0         0.139331           1                   0          -0.137039   \n",
       "1         0.134694           1                   0          -0.139009   \n",
       "2         0.148773           1                   0          -0.134735   \n",
       "3         0.132825           1                   0          -0.140003   \n",
       "4         0.141539           1                   0          -0.139989   \n",
       "\n",
       "   dropoff_latitude  payment_type  ...  tolls_amount  improvement_surcharge  \\\n",
       "0          0.136850             1  ...     -0.159444               0.243998   \n",
       "1          0.138398             1  ...     -0.159444               0.243998   \n",
       "2          0.150298             2  ...     -0.159444               0.243998   \n",
       "3          0.131268             2  ...     -0.159444               0.243998   \n",
       "4          0.135399             2  ...     -0.159444               0.243998   \n",
       "\n",
       "   total_amount  pickup_hour  pickup_day  pickup_month  dropoff_hour  \\\n",
       "0      0.001755           19          15             1            19   \n",
       "1      0.002433           20          10             1            20   \n",
       "2     -0.003894           20          10             1            20   \n",
       "3     -0.009316           20          10             1            20   \n",
       "4      0.001077           20          10             1            20   \n",
       "\n",
       "   dropoff_day  dropoff_month  labels  \n",
       "0           15              1       0  \n",
       "1           10              1       0  \n",
       "2           10              1       0  \n",
       "3           10              1       0  \n",
       "4           10              1       0  \n",
       "\n",
       "[5 rows x 24 columns]"
      ]
     },
     "execution_count": 20,
     "metadata": {},
     "output_type": "execute_result"
    }
   ],
   "source": [
    "data1 = data.copy()\n",
    "data1.head()"
   ]
  },
  {
   "cell_type": "code",
   "execution_count": 29,
   "metadata": {},
   "outputs": [
    {
     "name": "stdout",
     "output_type": "stream",
     "text": [
      "[0 1 2 3 4]\n"
     ]
    }
   ],
   "source": [
    "print(np.unique(data1['labels']))"
   ]
  },
  {
   "cell_type": "code",
   "execution_count": 30,
   "metadata": {},
   "outputs": [
    {
     "name": "stdout",
     "output_type": "stream",
     "text": [
      "Data column with null value:\n",
      " VendorID                 0\n",
      "passenger_count          0\n",
      "trip_distance            0\n",
      "pickup_longitude         0\n",
      "pickup_latitude          0\n",
      "RateCodeID               0\n",
      "store_and_fwd_flag       0\n",
      "dropoff_longitude        0\n",
      "dropoff_latitude         0\n",
      "payment_type             0\n",
      "fare_amount              0\n",
      "extra                    0\n",
      "mta_tax                  0\n",
      "tip_amount               0\n",
      "tolls_amount             0\n",
      "improvement_surcharge    0\n",
      "total_amount             0\n",
      "pickup_hour              0\n",
      "pickup_day               0\n",
      "pickup_month             0\n",
      "dropoff_hour             0\n",
      "dropoff_day              0\n",
      "dropoff_month            0\n",
      "labels                   0\n",
      "dtype: int64\n"
     ]
    }
   ],
   "source": [
    "print('Data column with null value:\\n',data1.isnull().sum())"
   ]
  },
  {
   "cell_type": "code",
   "execution_count": 35,
   "metadata": {
    "colab": {
     "base_uri": "https://localhost:8080/",
     "height": 158
    },
    "executionInfo": {
     "elapsed": 296,
     "status": "error",
     "timestamp": 1731224370744,
     "user": {
      "displayName": "Upendra Kumar",
      "userId": "15397436869538451510"
     },
     "user_tz": -60
    },
    "id": "upEpkU6O-Ypi",
    "outputId": "e4bc8463-465a-41b0-bb41-9f3c130e748f"
   },
   "outputs": [],
   "source": [
    "X = data[features_for_clustering].values\n",
    "y_kmeans = data['labels'].values"
   ]
  },
  {
   "cell_type": "code",
   "execution_count": 36,
   "metadata": {},
   "outputs": [
    {
     "data": {
      "text/plain": [
       "array([[-0.14143561,  0.13933069, -0.13703912, ..., 19.        ,\n",
       "        15.        ,  1.        ],\n",
       "       [-0.14220118,  0.13469383, -0.13900887, ..., 20.        ,\n",
       "        10.        ,  1.        ],\n",
       "       [-0.13841777,  0.14877331, -0.13473483, ..., 20.        ,\n",
       "        10.        ,  1.        ],\n",
       "       ...,\n",
       "       [-0.13999639,  0.13923017, -0.13646879, ..., 19.        ,\n",
       "        10.        ,  1.        ],\n",
       "       [-0.14199547,  0.13724646, -0.13774495, ..., 19.        ,\n",
       "        10.        ,  1.        ],\n",
       "       [-0.13812239,  0.14225053, -0.13642286, ..., 19.        ,\n",
       "        10.        ,  1.        ]])"
      ]
     },
     "execution_count": 36,
     "metadata": {},
     "output_type": "execute_result"
    }
   ],
   "source": [
    "X"
   ]
  },
  {
   "cell_type": "code",
   "execution_count": 37,
   "metadata": {},
   "outputs": [
    {
     "data": {
      "text/plain": [
       "array([0, 0, 0, ..., 0, 0, 0], dtype=int32)"
      ]
     },
     "execution_count": 37,
     "metadata": {},
     "output_type": "execute_result"
    }
   ],
   "source": [
    "y_kmeans"
   ]
  },
  {
   "cell_type": "code",
   "execution_count": 48,
   "metadata": {},
   "outputs": [
    {
     "data": {
      "text/plain": [
       "3399504"
      ]
     },
     "execution_count": 48,
     "metadata": {},
     "output_type": "execute_result"
    }
   ],
   "source": [
    "len(X[y_kmeans == 0, 0])"
   ]
  },
  {
   "cell_type": "code",
   "execution_count": 38,
   "metadata": {},
   "outputs": [
    {
     "name": "stdout",
     "output_type": "stream",
     "text": [
      "[-0.14143561 -0.14220118 -0.13841777 ... -0.13999639 -0.14199547\n",
      " -0.13812239]\n"
     ]
    }
   ],
   "source": [
    "print(X[y_kmeans == 0, 0])"
   ]
  },
  {
   "cell_type": "code",
   "execution_count": 47,
   "metadata": {
    "id": "-IFboDaE-WDj"
   },
   "outputs": [
    {
     "data": {
      "image/png": "[encoded data removed]",
      "text/plain": [
       "<Figure size 640x480 with 1 Axes>"
      ]
     },
     "metadata": {},
     "output_type": "display_data"
    }
   ],
   "source": [
    "plt.scatter(X[y_kmeans == 0, 0], X[y_kmeans == 0, 1], s = 60, c = 'red', label = 'Cluster1')\n",
    "plt.scatter(X[y_kmeans == 1, 0], X[y_kmeans == 1, 1], s = 60, c = 'blue', label = 'Cluster2')\n",
    "# plt.scatter(X[y_kmeans == 2, 0], X[y_kmeans == 2, 1], s = 60, c = 'green', label = 'Cluster3')\n",
    "# plt.scatter(X[y_kmeans == 3, 0], X[y_kmeans == 3, 1], s = 60, c = 'yellow', label = 'Cluster4')\n",
    "# plt.scatter(X[y_kmeans == 4, 0], X[y_kmeans == 4, 1], s = 60, c = 'tab:orange', label = 'Cluster5')\n",
    "# plt.legend()\n",
    "# plt.title(\"IPL Batsman\")\n",
    "# plt.xlabel(\"average\")\n",
    "# plt.ylabel(\"strike rate\")\n",
    "plt.legend()\n",
    "plt.xlim((-10,10))\n",
    "plt.ylim((-10,10))\n",
    "plt.show()"
   ]
  },
  {
   "cell_type": "code",
   "execution_count": null,
   "metadata": {
    "id": "UzGJNZJ7o6Xc"
   },
   "outputs": [],
   "source": []
  },
  {
   "cell_type": "code",
   "execution_count": null,
   "metadata": {},
   "outputs": [],
   "source": []
  }
 ],
 "metadata": {
  "colab": {
   "provenance": []
  },
  "kaggle": {
   "accelerator": "none",
   "dataSources": [
    {
     "datasetId": 1777799,
     "sourceId": 2905525,
     "sourceType": "datasetVersion"
    }
   ],
   "dockerImageVersionId": 30626,
   "isGpuEnabled": false,
   "isInternetEnabled": false,
   "language": "python",
   "sourceType": "notebook"
  },
  "kernelspec": {
   "display_name": "Python 3 (ipykernel)",
   "language": "python",
   "name": "python3"
  },
  "language_info": {
   "codemirror_mode": {
    "name": "ipython",
    "version": 3
   },
   "file_extension": ".py",
   "mimetype": "text/x-python",
   "name": "python",
   "nbconvert_exporter": "python",
   "pygments_lexer": "ipython3",
   "version": "3.11.5"
  }
 },
 "nbformat": 4,
 "nbformat_minor": 1
}
